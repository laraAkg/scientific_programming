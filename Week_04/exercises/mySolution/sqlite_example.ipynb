{
 "cells": [
  {
   "cell_type": "code",
   "execution_count": 10,
   "metadata": {},
   "outputs": [
    {
     "ename": "IntegrityError",
     "evalue": "UNIQUE constraint failed: BOOK.ID",
     "output_type": "error",
     "traceback": [
      "\u001b[0;31m---------------------------------------------------------------------------\u001b[0m",
      "\u001b[0;31mIntegrityError\u001b[0m                            Traceback (most recent call last)",
      "Cell \u001b[0;32mIn[10], line 45\u001b[0m\n\u001b[1;32m     43\u001b[0m     book_author_id \u001b[38;5;241m=\u001b[39m fake\u001b[38;5;241m.\u001b[39mrandom_int(\u001b[38;5;28mmin\u001b[39m\u001b[38;5;241m=\u001b[39m\u001b[38;5;241m1\u001b[39m, \u001b[38;5;28mmax\u001b[39m\u001b[38;5;241m=\u001b[39m\u001b[38;5;241m10\u001b[39m)\n\u001b[1;32m     44\u001b[0m     book_price \u001b[38;5;241m=\u001b[39m fake\u001b[38;5;241m.\u001b[39mrandom_int(\u001b[38;5;28mmin\u001b[39m\u001b[38;5;241m=\u001b[39m\u001b[38;5;241m10\u001b[39m, \u001b[38;5;28mmax\u001b[39m\u001b[38;5;241m=\u001b[39m\u001b[38;5;241m100\u001b[39m)\n\u001b[0;32m---> 45\u001b[0m     \u001b[43mcursor\u001b[49m\u001b[38;5;241;43m.\u001b[39;49m\u001b[43mexecute\u001b[49m\u001b[43m(\u001b[49m\u001b[38;5;124;43m\"\u001b[39;49m\u001b[38;5;124;43mINSERT INTO BOOK (ID, TITLE, AUTHOR_ID, PRICE) VALUES (?, ?, ?, ?)\u001b[39;49m\u001b[38;5;124;43m\"\u001b[39;49m\u001b[43m,\u001b[49m\n\u001b[1;32m     46\u001b[0m \u001b[43m                   \u001b[49m\u001b[43m(\u001b[49m\u001b[43mi\u001b[49m\u001b[43m,\u001b[49m\u001b[43m \u001b[49m\u001b[43mbook_title\u001b[49m\u001b[43m,\u001b[49m\u001b[43m \u001b[49m\u001b[43mbook_author_id\u001b[49m\u001b[43m,\u001b[49m\u001b[43m \u001b[49m\u001b[43mbook_price\u001b[49m\u001b[43m)\u001b[49m\u001b[43m)\u001b[49m\n\u001b[1;32m     48\u001b[0m \u001b[38;5;66;03m# Commit the changes and close the connection\u001b[39;00m\n\u001b[1;32m     49\u001b[0m conn\u001b[38;5;241m.\u001b[39mcommit()\n",
      "\u001b[0;31mIntegrityError\u001b[0m: UNIQUE constraint failed: BOOK.ID"
     ]
    }
   ],
   "source": [
    "import os\n",
    "import sqlite3\n",
    "import os\n",
    "import sqlite3\n",
    "from faker import Faker\n",
    "import pandas as pd\n",
    "\n",
    "\n",
    "# Connect to the SQLite database\n",
    "conn = sqlite3.connect('test.db')\n",
    "cursor = conn.cursor()\n",
    "\n",
    "# Create the AUTHOR table\n",
    "cursor.execute('''CREATE TABLE IF NOT EXISTS AUTHOR\n",
    "            (ID INT PRIMARY KEY     NOT NULL,\n",
    "            NAME           TEXT    NOT NULL,\n",
    "            AGE            INT     NOT NULL,\n",
    "            ADDRESS        CHAR(50),\n",
    "            SALARY         REAL);''')\n",
    "\n",
    "# Create the BOOK table\n",
    "cursor.execute('''CREATE TABLE IF NOT EXISTS BOOK\n",
    "            (ID INT PRIMARY KEY     NOT NULL,\n",
    "            TITLE           TEXT    NOT NULL,\n",
    "            AUTHOR_ID       INT     NOT NULL,\n",
    "            PRICE           REAL);''')\n",
    "\n",
    "# Generate fake data using the faker library\n",
    "fake = Faker()\n",
    "\n",
    "# Insert data into the AUTHOR table\n",
    "for i in range(1, 11):\n",
    "    author_name = fake.name()\n",
    "    author_age = fake.random_int(min=18, max=80)\n",
    "    author_address = fake.address()\n",
    "    author_salary = fake.random_int(min=50000, max=150000)\n",
    "    cursor.execute(\"INSERT OR IGNORE INTO AUTHOR (ID, NAME, AGE, ADDRESS, SALARY) VALUES (?, ?, ?, ?, ?)\",\n",
    "                   (i, author_name, author_age, author_address, author_salary))\n",
    "\n",
    "# Insert data into the BOOK table\n",
    "for i in range(1, 21):\n",
    "    book_title = fake.catch_phrase()\n",
    "    book_author_id = fake.random_int(min=1, max=10)\n",
    "    book_price = fake.random_int(min=10, max=100)\n",
    "    cursor.execute(\"INSERT INTO BOOK (ID, TITLE, AUTHOR_ID, PRICE) VALUES (?, ?, ?, ?)\",\n",
    "                   (i, book_title, book_author_id, book_price))\n",
    "\n",
    "# Commit the changes and close the connection\n",
    "conn.commit()\n",
    "conn.close()\n"
   ]
  },
  {
   "cell_type": "code",
   "execution_count": 13,
   "metadata": {},
   "outputs": [
    {
     "name": "stdout",
     "output_type": "stream",
     "text": [
      "                  NAME  AGE  \\\n",
      "ID                            \n",
      "1        Sarah Ramirez   20   \n",
      "2      Jeremy Matthews   67   \n",
      "3         Kathryn Lowe   31   \n",
      "4   Elizabeth Phillips   51   \n",
      "5      Larry Dickerson   19   \n",
      "6       Brian Trujillo   67   \n",
      "7         David Wilson   37   \n",
      "8        Joshua Hansen   39   \n",
      "9         Kevin Cooper   69   \n",
      "10      Patricia Meyer   53   \n",
      "\n",
      "                                              ADDRESS    SALARY  \n",
      "ID                                                               \n",
      "1   04163 Ingram Vista Apt. 421\\nEast Rebecca, SC ...  135698.0  \n",
      "2           03317 Hunter Greens\\nLake Jacob, IA 62540  141634.0  \n",
      "3   90409 Jaime Spurs Suite 091\\nGarciaside, WV 38213   79729.0  \n",
      "4   2407 Richard Plaza Suite 051\\nLake Sharonhaven...  127111.0  \n",
      "5   5964 Jennifer Rue Suite 069\\nHolmesview, AK 32538   55990.0  \n",
      "6               2413 Smith Hill\\nWendyburgh, OR 58542  109064.0  \n",
      "7      27599 Adrian Grove\\nPort Philipmouth, KS 79516  135110.0  \n",
      "8              949 Mason Valley\\nKrististad, IN 72428  101863.0  \n",
      "9   9582 Jenkins Curve Suite 192\\nRichardfort, NH ...   91218.0  \n",
      "10  98742 Watts Shoals Suite 289\\nGibsonmouth, KY ...   92856.0  \n"
     ]
    }
   ],
   "source": [
    "conn = sqlite3.connect('test.db')\n",
    "\n",
    "df_sub = pd.read_sql_query(\"SELECT * FROM AUTHOR\", conn, index_col='ID')\n",
    "print(df_sub)"
   ]
  }
 ],
 "metadata": {
  "kernelspec": {
   "display_name": "spenv",
   "language": "python",
   "name": "python3"
  },
  "language_info": {
   "codemirror_mode": {
    "name": "ipython",
    "version": 3
   },
   "file_extension": ".py",
   "mimetype": "text/x-python",
   "name": "python",
   "nbconvert_exporter": "python",
   "pygments_lexer": "ipython3",
   "version": "3.10.13"
  }
 },
 "nbformat": 4,
 "nbformat_minor": 2
}

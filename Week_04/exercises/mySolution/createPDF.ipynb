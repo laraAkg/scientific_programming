{
 "cells": [
  {
   "cell_type": "code",
   "execution_count": 48,
   "metadata": {},
   "outputs": [],
   "source": [
    "from reportlab.lib import colors\n",
    "from reportlab.lib.pagesizes import LETTER\n",
    "from reportlab.lib.units import inch\n",
    "from reportlab.pdfgen.canvas import Canvas\n",
    "from datetime import datetime\n",
    "\n",
    "# Create a canvas\n",
    "canvas = Canvas(\"example_write.pdf\", pagesize=LETTER)\n",
    "\n",
    "# Set the fill color, font, and draw the text\n",
    "canvas.setFillColor(colors.black)\n",
    "canvas.setFont('Helvetica', 12)\n",
    "canvas.drawString(3.5 * inch, 10 * inch, 'This is a meme:')\n",
    "canvas.drawImage(\"data/meme.jpeg\", 2.5 * inch, 6.5 * inch, width=3*inch, height=3*inch)\n",
    "\n",
    "canvas.drawString(1 * inch, 6 * inch, 'busy-ZHAW-student')\n",
    "canvas.drawString(1 * inch, 5.8 * inch, 'Theaterstrasse 17')\n",
    "canvas.drawString(1 * inch, 5.6 * inch, 'Winterthur, 8400')\n",
    "\n",
    "date = datetime.now().strftime('%d.%m.%Y')\n",
    "canvas.drawString(1 * inch, 5 * inch, date)\n",
    "\n",
    "canvas.drawString(1 * inch, 4.5 * inch, 'Dear Sir or Madam,')\n",
    "\n",
    "canvas.drawString(1 * inch, 4 * inch, 'I am writing to apply for the position of software developer at your company.')\n",
    "# Save the canvas as a PDF file\n",
    "canvas.save()\n"
   ]
  }
 ],
 "metadata": {
  "kernelspec": {
   "display_name": "spenv",
   "language": "python",
   "name": "python3"
  },
  "language_info": {
   "codemirror_mode": {
    "name": "ipython",
    "version": 3
   },
   "file_extension": ".py",
   "mimetype": "text/x-python",
   "name": "python",
   "nbconvert_exporter": "python",
   "pygments_lexer": "ipython3",
   "version": "3.10.13"
  }
 },
 "nbformat": 4,
 "nbformat_minor": 2
}

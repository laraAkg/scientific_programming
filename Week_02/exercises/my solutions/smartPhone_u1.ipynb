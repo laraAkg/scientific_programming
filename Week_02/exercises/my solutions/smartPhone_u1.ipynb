{
 "cells": [
  {
   "cell_type": "code",
   "execution_count": 2,
   "metadata": {},
   "outputs": [
    {
     "name": "stdout",
     "output_type": "stream",
     "text": [
      "Brand            object\n",
      "RAM               int64\n",
      "Price           float64\n",
      "Has Dual Sim       bool\n",
      "dtype: object\n"
     ]
    }
   ],
   "source": [
    "import pandas as pd\n",
    "from faker import Faker\n",
    "import random\n",
    "\n",
    "col_ram = []\n",
    "col_name = []\n",
    "col_price = []\n",
    "col_hasDualSim = []\n",
    "\n",
    "fake = Faker()\n",
    "\n",
    "existing_brands = ['Apple', 'Samsung', 'Huawei', 'Xiaomi',\n",
    "                   'Oppo', 'Vivo', 'OnePlus', 'Google', 'Sony', 'LG']\n",
    "\n",
    "\n",
    "\n",
    "# Fill the empty lists with data\n",
    "random.seed(10)\n",
    "for i in range(1, 1001):\n",
    "    col_ram.append(random.randint(2, 12))\n",
    "    col_name.append(random.choice(existing_brands))\n",
    "    col_price.append(round(fake.random_number(\n",
    "        digits=4, fix_len=True) / 100, 2))\n",
    "    col_hasDualSim.append(fake.boolean())\n",
    "\n",
    "# Create a data frame from the lists\n",
    "df = pd.DataFrame.from_dict({'Brand': col_name,\n",
    "                             'RAM': col_ram,\n",
    "                             'Price': col_price,\n",
    "                             'Has Dual Sim': col_hasDualSim})\n",
    "\n",
    "\n",
    "# explore data types\n",
    "print(df.dtypes)\n",
    "\n",
    "################################################################################\n",
    "\n",
    "# Create a Pandas Excel writer using XlsxWriter as the engine\n",
    "writer = pd.ExcelWriter('smartphone_data.xlsx', engine='xlsxwriter')\n",
    "\n",
    "# Convert the dataframe to an XlsxWriter Excel object\n",
    "df.to_excel(writer, sheet_name='Sheet1', startrow=1, header=False, index=False)\n",
    "\n",
    "# Get the xlsxwriter objects from the dataframe writer object\n",
    "workbook = writer.book\n",
    "worksheet = writer.sheets['Sheet1']\n",
    "\n",
    "# Get the dimensions of the dataframe\n",
    "(max_row, max_col) = df.shape\n",
    "\n",
    "# Create a list of column headers, to use in add_table()\n",
    "column_settings = [{'header': column} for column in df.columns]\n",
    "\n",
    "# Add the Excel table structure. Pandas will add the data\n",
    "worksheet.add_table(0, 0, max_row, max_col - 1, {'columns': column_settings})\n",
    "\n",
    "# Make the columns wider for clarity\n",
    "worksheet.set_column(0, max_col - 1, 20)\n",
    "\n",
    "\n",
    "# Close the Pandas Excel writer and output the Excel file  \n",
    "writer.close()\n",
    "################################################################################"
   ]
  },
  {
   "cell_type": "code",
   "execution_count": 4,
   "metadata": {},
   "outputs": [
    {
     "name": "stdout",
     "output_type": "stream",
     "text": [
      "-----------------------------------\n",
      "POSIX\n",
      "Darwin | 23.3.0\n",
      "Datetime: 2024-03-04 21:00:54\n",
      "Python Version: 3.10.13\n",
      "-----------------------------------\n"
     ]
    }
   ],
   "source": [
    "import os\n",
    "import platform\n",
    "import socket\n",
    "from platform import python_version\n",
    "from datetime import datetime\n",
    "\n",
    "print('-----------------------------------')\n",
    "print(os.name.upper())\n",
    "print(platform.system(), '|', platform.release())\n",
    "print('Datetime:', datetime.now().strftime(\"%Y-%m-%d %H:%M:%S\"))\n",
    "print('Python Version:', python_version())\n",
    "print('-----------------------------------')"
   ]
  }
 ],
 "metadata": {
  "kernelspec": {
   "display_name": "spenv",
   "language": "python",
   "name": "python3"
  },
  "language_info": {
   "codemirror_mode": {
    "name": "ipython",
    "version": 3
   },
   "file_extension": ".py",
   "mimetype": "text/x-python",
   "name": "python",
   "nbconvert_exporter": "python",
   "pygments_lexer": "ipython3",
   "version": "3.10.13"
  }
 },
 "nbformat": 4,
 "nbformat_minor": 2
}

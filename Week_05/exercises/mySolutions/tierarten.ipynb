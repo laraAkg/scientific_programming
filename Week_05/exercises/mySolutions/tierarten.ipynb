{
 "cells": [
  {
   "cell_type": "code",
   "execution_count": 1,
   "metadata": {},
   "outputs": [
    {
     "name": "stdout",
     "output_type": "stream",
     "text": [
      "<class 'list'>\n"
     ]
    }
   ],
   "source": [
    "# TierArten in einer Liste gespeichert\n",
    "tierArten = [\"Säugetier\",\"Reptilien\",\"Insekten\", \"Amphibien\"]\n",
    "print(type(tierArten))\n"
   ]
  },
  {
   "cell_type": "code",
   "execution_count": 2,
   "metadata": {},
   "outputs": [
    {
     "name": "stdout",
     "output_type": "stream",
     "text": [
      "<class 'tuple'>\n"
     ]
    }
   ],
   "source": [
    "# TierArten in einem Tupel gespeichert\n",
    "tierArten = (\"Säugetier\",\"Reptilien\",\"Insekten\", \"Amphibien\")\n",
    "print(type(tierArten))"
   ]
  },
  {
   "cell_type": "code",
   "execution_count": 4,
   "metadata": {},
   "outputs": [
    {
     "name": "stdout",
     "output_type": "stream",
     "text": [
      "<class 'dict'>\n"
     ]
    }
   ],
   "source": [
    "# TierArten in einem Dictionary gespeichert\n",
    "dict_tiere = {'Säugetiere':[\"Pferd\", \"Schaf\", \"Hund\"], 'Insekten':[\"Biene\", \"Ameise\", \"Wespe\"]}\n",
    "print(type(dict_tiere))\n"
   ]
  },
  {
   "cell_type": "code",
   "execution_count": 5,
   "metadata": {},
   "outputs": [
    {
     "name": "stdout",
     "output_type": "stream",
     "text": [
      "<class 'set'>\n"
     ]
    }
   ],
   "source": [
    "# TierArten in einem Set gespeichert\n",
    "tierArten = {\"Säugetier\",\"Reptilien\",\"Insekten\", \"Amphibien\"}\n",
    "print(type(tierArten))"
   ]
  }
 ],
 "metadata": {
  "kernelspec": {
   "display_name": "spenv",
   "language": "python",
   "name": "python3"
  },
  "language_info": {
   "codemirror_mode": {
    "name": "ipython",
    "version": 3
   },
   "file_extension": ".py",
   "mimetype": "text/x-python",
   "name": "python",
   "nbconvert_exporter": "python",
   "pygments_lexer": "ipython3",
   "version": "3.10.13"
  }
 },
 "nbformat": 4,
 "nbformat_minor": 2
}

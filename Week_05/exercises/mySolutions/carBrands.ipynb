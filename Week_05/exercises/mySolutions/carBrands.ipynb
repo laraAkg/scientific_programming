{
 "cells": [
  {
   "cell_type": "code",
   "execution_count": 7,
   "metadata": {},
   "outputs": [
    {
     "name": "stdout",
     "output_type": "stream",
     "text": [
      "Brand         object\n",
      "PS             int64\n",
      "Price        float64\n",
      "Is manual       bool\n",
      "dtype: object\n"
     ]
    }
   ],
   "source": [
    "from faker import Faker\n",
    "import random\n",
    "import pandas as pd\n",
    "\n",
    "\n",
    "fake = Faker()\n",
    "\n",
    "col_name = []\n",
    "col_ps = []\n",
    "col_price = []\n",
    "col_isManual = []\n",
    "\n",
    "car_brands = ['Toyota', 'Honda', 'Ford', 'Chevrolet', 'Volkswagen']\n",
    "\n",
    "\n",
    "# Fill the empty lists with data\n",
    "random.seed(10)\n",
    "for i in range(1, 1001):\n",
    "    col_name.append(random.choice(car_brands))\n",
    "    col_ps.append(random.randint(80, 500))\n",
    "    col_price.append(round(fake.random_number(\n",
    "        digits=4, fix_len=True) / 100, 2))\n",
    "    col_isManual.append(fake.boolean())\n",
    "\n",
    "# Create a data frame from the lists\n",
    "df = pd.DataFrame.from_dict({'Brand': col_name,\n",
    "                             'PS': col_ps,\n",
    "                             'Price': col_price,\n",
    "                             'Is manual': col_isManual})\n",
    "\n",
    "\n",
    "# explore data types\n",
    "print(df.dtypes)\n"
   ]
  }
 ],
 "metadata": {
  "kernelspec": {
   "display_name": "spenv",
   "language": "python",
   "name": "python3"
  },
  "language_info": {
   "codemirror_mode": {
    "name": "ipython",
    "version": 3
   },
   "file_extension": ".py",
   "mimetype": "text/x-python",
   "name": "python",
   "nbconvert_exporter": "python",
   "pygments_lexer": "ipython3",
   "version": "3.10.13"
  }
 },
 "nbformat": 4,
 "nbformat_minor": 2
}
